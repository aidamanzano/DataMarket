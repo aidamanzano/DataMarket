{
 "cells": [
  {
   "cell_type": "code",
   "metadata": {
    "cell_id": "00000-c8d81757-f30c-4688-ac2a-0520518fbd0c",
    "deepnote_cell_type": "code"
   },
   "source": "import random\nimport secrets\nimport math\nimport numpy as np\nimport matplotlib.pyplot as plt\n\n#source for heapsort implementation\n#https://www.programiz.com/dsa/heap-sort\n#idea by pierre\n#maybe use some weigthed approach instead of median. the middleground between mean and median\n",
   "execution_count": null,
   "outputs": []
  },
  {
   "cell_type": "code",
   "metadata": {
    "cell_id": "00001-019605c9-d2b6-4361-b0eb-2213a025de2c",
    "deepnote_cell_type": "code"
   },
   "source": "class agent:\n\n    def __init__(self, dt = None, idb = 10, t = 10):\n        '''Give every agent a random dataset: an onedimensional integer if not otherwise defined via dt\n        -idb is byte length of agent identifier\n        -t range of time of the data'''\n\n        #the random data will be replaced by the sumo dlr simulation\n        self.data = 10 + float(np.random.normal(0,1,1))\n        if dt:\n            self.data = dt\n\n        self.datatime = random.randrange(t)\n        \n        #hash of the data\n        self.hash = hash(self.data)\n\n        #randomly assigned id token\n        self.id = secrets.token_hex(idb)\n        \n        self.stor = []\n        self.info = (self.id,self.hash,self.data)\n    \n    def submit(self):\n        return (self.hash,self.id, self.datatime)\n    \n    def submitall(self):\n        return (self.hash,self.id, self.datatime, self.data)\n    \n    def store(self,info):\n        self.stor.append(info)\n",
   "execution_count": null,
   "outputs": []
  },
  {
   "cell_type": "code",
   "metadata": {
    "cell_id": "00002-68e6786a-d40f-4e8c-9f18-c16a1cff673b",
    "deepnote_cell_type": "code"
   },
   "source": "class dledger:\n    \n    def __init__(self):\n        self.submissions = dict()\n        self.submissioncount = 0\n    \n    def datasubmission(self, submission):\n        self.submissions[self.submissioncount] = submission\n        self.submissioncount += 1\n    \n    def initialisesort(self):\n        #initialisation of counting parameter for heapsort algorithm\n        self.n = self.submissioncount\n        self.i = self.n//2\n        self.largest = self.i\n        self.l = 2 * self.i + 1\n        self.r = 2 * self.i + 2\n        \n        #save hashes, ids, and indices. this depends on the order in submission: self.hash, self.id, self.datatime\n        self.hashes = [(i) for i,j,k in ledger.submissions.values()]\n        self.ids = [(j) for i,j,k in ledger.submissions.values()]\n\n        #arr maps the original order / IDs to the sorted order: indices of arr reflect original indices or IDs of agents\n        #and the values of arr at this position the indices in sorted order\n        self.arr = list(ledger.submissions.keys())\n        \n    def getid(self,index):\n        \n        return self.ids[self.arr[index]]\n    \n",
   "execution_count": null,
   "outputs": []
  },
  {
   "cell_type": "code",
   "metadata": {
    "cell_id": "00003-1aba911d-b716-412e-b8e4-c7b38668ecd5",
    "deepnote_cell_type": "code"
   },
   "source": "def comparestore(agent1,agent2):\n    agent1.store(agent2.info)\n    agent2.store(agent1.info)\n    return agent1.data < agent2.data\n\ndef heapify(ledger, agents):\n# Find largest among root and children\n    ledger.largest = ledger.i\n        \n    ledger.l = 2 * ledger.i + 1\n    ledger.r = 2 * ledger.i + 2\n\n    if ledger.l < ledger.n and comparestore(agents[ledger.arr[ledger.i]],agents[ledger.arr[ledger.l]]):\n        ledger.largest = ledger.l\n       \n    if ledger.r < ledger.n and comparestore(agents[ledger.arr[ledger.largest]],agents[ledger.arr[ledger.r]]):\n        ledger.largest = ledger.r\n       \n    # If root is not largest, swap with largest and continue heapifying\n    if ledger.largest != ledger.i:\n        ledger.arr[ledger.i], ledger.arr[ledger.largest] = ledger.arr[ledger.largest], ledger.arr[ledger.i]\n        ledger.i = ledger.largest\n        heapify(ledger, agents) \n        \n        \ndef heapsort(ledger, agents):\n    # Build max heap\n    for i in range(ledger.n//2,-1,-1):\n        ledger.i= i\n        heapify(ledger,agents)\n\n    for i in range(ledger.n-1, 0, -1):\n        # Swap\n        ledger.arr[i], ledger.arr[0] = ledger.arr[0], ledger.arr[i]\n\n        # Heapify root element\n\n        ledger.n = i\n        ledger.i = 0\n        heapify(ledger,agents)\n    \ndef median(ledger, agents):\n    ledger.n = ledger.submissioncount\n    if ledger.n%2 == 0:\n        ledger.mediantime = (agents[ledger.arr[ledger.n//2]].datatime + agents[ledger.arr[ledger.n//2+1]].datatime)/2\n        ledger.median = (agents[ledger.arr[ledger.n//2]].data+ agents[ledger.arr[ledger.n//2+1]].data)/2\n    elif ledger.n%2 ==1:\n        ledger.median = agents[ledger.arr[ledger.n//2+1]].data\n        ledger.mediantime = agents[ledger.arr[ledger.n//2+1]].datatime\n        \ndef difficulty(agent, ledger, d_zero=1, alpha=0.1, beta = 10, gamma= 0.1, tau = 3):\n    dif = d_zero + alpha * abs(agent.data-ledger.median)\n    if agent.data-ledger.median > beta + gamma * math.e**(abs(agent.datatime-ledger.mediantime)*tau):\n        dif = 'INF'\n    return dif\n    \n    ",
   "execution_count": null,
   "outputs": []
  },
  {
   "cell_type": "code",
   "metadata": {
    "cell_id": "00004-a92b63d7-c4cd-4405-88bc-3d075ecf947e",
    "deepnote_cell_type": "code"
   },
   "source": "alpha=0.1\nbeta = 10\ngamma= 0.1\ntau = 3\nbeta + gamma * math.e**(1*tau)",
   "execution_count": null,
   "outputs": []
  },
  {
   "cell_type": "markdown",
   "source": "# median implementation",
   "metadata": {
    "cell_id": "00005-cdff273a-7aa8-464e-900d-d69f7ef2c326",
    "deepnote_cell_type": "markdown"
   }
  },
  {
   "cell_type": "code",
   "metadata": {
    "cell_id": "00006-e7115d01-2745-4824-8a3f-d4a655cf80af",
    "deepnote_cell_type": "code"
   },
   "source": "\n#simulation for n agentes\nrandom.seed(10)\nn = 100\n\nagents = [agent() for i in range(n)]\nagents.append(agent(dt=10000))\nagents.append(agent(dt=200))\nledger = dledger()\n\nfor i in agents:\n    ledger.datasubmission(i.submit())\n\nledger.initialisesort()\n\nheapsort(ledger, agents)\n\nmedian(ledger,agents)\n\ndifficulties = []\noutliercount = 0\n#print('difficulties for the {} agents are:'.format(n))\nfor a in agents:\n    dif = difficulty(a, ledger)\n    if dif!='INF':\n        difficulties.append(dif)\n    else:\n        outliercount += 1\n#    print('agent:',a.id,'; difficulty: ',dif)\n\ny = np.asarray(difficulties)\nplt.xticks(rotation=90)\nplt.hist(y, bins = 20)\nplt.title('Difficulties distribution')\nplt.show()\nprint('{} outliers were removed'.format(outliercount))",
   "execution_count": null,
   "outputs": []
  },
  {
   "cell_type": "code",
   "metadata": {
    "cell_id": "00007-3a8dc88c-e1b8-4ca9-af34-2cd1516aaf9c",
    "deepnote_output_heights": [
     21.1875
    ],
    "deepnote_cell_type": "code"
   },
   "source": "ledger.submissioncount = 100000\nbeta = (np.log(10)-np.log(100/3))/(np.log(9)-np.log(100))\nsplit = ((1/3 * ledger.submissioncount**-beta * 9**beta))\nbeta, split , ledger.submissioncount*split, int(1/split)\n",
   "execution_count": null,
   "outputs": [
    {
     "data": {
      "text/plain": "(0.4999999999999999, 0.003162277660168382, 316.2277660168382, 316)"
     },
     "execution_count": 16,
     "metadata": {},
     "output_type": "execute_result"
    }
   ]
  },
  {
   "cell_type": "markdown",
   "source": "# median mean implementation",
   "metadata": {
    "cell_id": "00008-d33bd144-c160-4bee-a89d-4284ccb43dd1",
    "deepnote_cell_type": "markdown"
   }
  },
  {
   "cell_type": "code",
   "metadata": {
    "cell_id": "00009-422d73ac-df6b-4499-80c5-2d76659dc07e",
    "deepnote_output_heights": [
     279
    ],
    "deepnote_cell_type": "code"
   },
   "source": "#simulation for n agentes\nrandom.seed(10)\nn = 100\n\nagents = [agent() for i in range(n)]\nagents.append(agent(dt=10000))\nagents.append(agent(dt=200))\nledger = dledger()\n\nfor i in agents:\n    ledger.datasubmission(i.submitall())\n\n#group agents\n# number of agents should be minimum 9 for somewhat meaningful results; 3 groups of 3 agents\n# 3 agents so that they cannot not for certain which data the other 2 agents of their group have\n# and 3 groups to get 3 mean, to take the median\n#split is parameterised that is 3 agents per group if n = 9 and 10 agents per group for n = 100\n\nbeta = (np.log(10)-np.log(100/3))/(np.log(9)-np.log(100))\nsplit = ((1/3 * ledger.submissioncount**-beta * 9**beta))\nngroups = int(1/split)\ngroups = [[] for i in range(ngroups)]\n\nfor i in range(ledger.submissioncount):\n#    groups[int((i+split*ledger.submissioncount)%(split*ledger.submissioncount))].append(ledger.submissions[i])\n    groups[i%ngroups].append(ledger.submissions[i])\n\nmean = []\nmeantime = []\nfor group in groups:\n    s = 0\n    t = 0\n    for a in group:\n        s += a[3]\n        t += a[2]\n    mean.append(s/len(group))\n    meantime.append(t/len(group))\n\nsort_index = np.argsort(mean)\nn_groups = len(groups)\nif n_groups%2 == 1:\n    median = mean[sort_index[n_groups//2+1]]\n    mediantime = meantime[sort_index[n_groups//2+1]]\n\nelif n_groups%2 == 0:\n    median = (mean[sort_index[n_groups//2+1]] + mean[sort_index[n_groups//2]]) / 2\n    mediantime = (meantime[sort_index[n_groups//2+1]] + meantime[sort_index[n_groups//2+1]])/2\n\nledger.median = median\nledger.mediantime = mediantime\n# split of n is function of n\n# when n = 6, split is 1/3\n# decreases with n\n\n#print('difficulties for the {} agents are:'.format(n))\n#for a in agents:\n#    print('agent:',a.id,'; difficulty: ',difficulty(a, ledger))\n\n#split and mix their their data within groups for mean\n\n#publish and sort means\n\n# choose median of mean or remove outliers and compute overall mean then\n\n\ndifficulties = []\noutliercount = 0\n#print('difficulties for the {} agents are:'.format(n))\nfor a in agents:\n    dif = difficulty(a, ledger)\n    if dif!='INF':\n        difficulties.append(dif)\n    else:\n        outliercount += 1\n#    print('agent:',a.id,'; difficulty: ',dif)\n\ny = np.asarray(difficulties)\nplt.xticks(rotation=90)\nplt.hist(y,bins= 20)\nplt.title('Difficulties distribution')\nplt.show()\nprint('{} outliers were removed'.format(outliercount))",
   "execution_count": null,
   "outputs": [
    {
     "data": {
      "image/png": "[encoded data removed]",
      "text/plain": "<Figure size 432x288 with 1 Axes>"
     },
     "metadata": {
      "needs_background": "light",
      "image/png": {
       "width": 375,
       "height": 277
      }
     },
     "output_type": "display_data"
    },
    {
     "name": "stdout",
     "output_type": "stream",
     "text": "1 outliers were removed\n"
    }
   ]
  },
  {
   "cell_type": "markdown",
   "source": "<a style='text-decoration:none;line-height:16px;display:flex;color:#5B5B62;padding:10px;justify-content:end;' href='https://deepnote.com?utm_source=created-in-deepnote-cell&projectId=8b81a959-51f8-469a-8dd7-054eee2b945d' target=\"_blank\">\n<img alt='Created in deepnote.com' style='display:inline;max-height:16px;margin:0px;margin-right:7.5px;' src='data:image/svg+xml;base64,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' > </img>\nCreated in <span style='font-weight:600;margin-left:4px;'>Deepnote</span></a>",
   "metadata": {
    "tags": [],
    "created_in_deepnote_cell": true,
    "deepnote_cell_type": "markdown"
   }
  }
 ],
 "nbformat": 4,
 "nbformat_minor": 5,
 "metadata": {
  "kernelspec": {
   "display_name": "Python 3",
   "language": "python",
   "name": "python3"
  },
  "language_info": {
   "codemirror_mode": {
    "name": "ipython",
    "version": 3
   },
   "file_extension": ".py",
   "mimetype": "text/x-python",
   "name": "python",
   "nbconvert_exporter": "python",
   "pygments_lexer": "ipython3",
   "version": "3.8.8"
  },
  "deepnote_notebook_id": "216e82ac-0f8a-4f64-8f1e-fe40af46301d",
  "deepnote": {},
  "deepnote_execution_queue": []
 }
}