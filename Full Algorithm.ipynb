{
 "cells": [
  {
   "cell_type": "code",
   "metadata": {
    "tags": [],
    "cell_id": "00000-73851e5b-0f07-4390-a35f-a8602596a660",
    "deepnote_cell_type": "code"
   },
   "source": "import shap\nimport pandas as pd \nimport sklearn\nfrom scipy.spatial.distance import cosine\nimport numpy as np\nimport random\nimport secrets\nimport math\nimport matplotlib.pyplot as plt",
   "execution_count": null,
   "outputs": []
  },
  {
   "cell_type": "code",
   "metadata": {
    "cell_id": "f30fd0d2-72f8-4140-8ac3-06095e698586",
    "tags": [],
    "deepnote_cell_type": "code"
   },
   "source": "class agent:\n\n    def __init__(self, dt = None, dt_t = None, m = 0, v=1, s=5, n = 10, t = 10):\n        '''Give every agent a random normally distributed dataset \n        with mean m, variance v, and size s unless defined via dt\n        -idb is byte length of agent identifier\n        -t range from which time is randomly chosen for the data unless defined via dt_t'''\n\n        #the random data will be replaced by the sumo dlr simulation\n        self.data = float(np.random.normal(m,v,s))\n        if dt:\n            self.data = dt\n\n        self.data_n = np.norm(self.data)\n\n        self.datatime = random.randrange(t)\n        if dt_t:\n            self.datatime = dt_t\n        \n        #hash of the data to identify it\n        self.data_id = hash(self.data)\n\n        #randomly assigned id token\n\n        #self.id = secrets.token_hex(idb) #old\n\n        self.id = ''.join(random.choices(string.ascii_uppercase + string.digits, k=n))\n        \n        self.stor = []\n        self.info = (self.id,self.hash,self.data)\n    \n    def work(tee,l):\n        #tee.powpool is the pool of proof of work that needs to be done, it returns data points \n        d1,n1,d2,n2 = tee.powpool(self,data_id)\n\n    def submit(self):\n        return (self.hash,self.id, self.datatime)\n    \n    def submitall(self):\n        return (self.hash,self.id, self.datatime, self.data)\n    \n    def store(self,info):\n        self.stor.append(info)\n",
   "execution_count": null,
   "outputs": []
  },
  {
   "cell_type": "code",
   "metadata": {
    "cell_id": "b5f59933-c399-4da8-8215-26ce2514fa45",
    "tags": [],
    "deepnote_cell_type": "code"
   },
   "source": "def dataSubmitted(a,md,d,dn,tee,l):\n    \"\"\"\n    Data vector d, its metadata md and norm dn is submitted by an agent a to trusted execution environment tee \n    and ledger l\n    initial PoW dependant on number of previous submissions n within the last t time \n    Metadata md is a dict; \n    similarities sm contain the data vector d's similarites with regards to agents last x submissions\n\n    \"\"\"\n    #define initial PoW\n    #dif is the number of similarity calculations need to be perfomed and credited\n    c = 5\n    dif = n**2 + c\n    #do initial PoW\n    for i in range(dif):\n        #work function of agent still needs to be written\n        a.work(tee,l)\n    #add submission to tee and ledger so that a robust shapley value and second stage PoW dif can be assigned \n    #add function of tee and l still needs to be written\n    tee.add(a,md,d,dn)\n    l.add(a,md,d,dn)\n    #robust shapley value rsv function needs to be written\n    dif = rsv()\n    for i in range(dif):\n        a.work(tee,l)\n    #write submission to the ledger and tee so that it is on the market place\n    tee.write(a,md,d,dn)\n    l.write(a,md,d,dn)\n    return ",
   "execution_count": null,
   "outputs": []
  },
  {
   "cell_type": "markdown",
   "source": "<a style='text-decoration:none;line-height:16px;display:flex;color:#5B5B62;padding:10px;justify-content:end;' href='https://deepnote.com?utm_source=created-in-deepnote-cell&projectId=8b81a959-51f8-469a-8dd7-054eee2b945d' target=\"_blank\">\n<img alt='Created in deepnote.com' style='display:inline;max-height:16px;margin:0px;margin-right:7.5px;' src='data:image/svg+xml;base64,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' > </img>\nCreated in <span style='font-weight:600;margin-left:4px;'>Deepnote</span></a>",
   "metadata": {
    "tags": [],
    "created_in_deepnote_cell": true,
    "deepnote_cell_type": "markdown"
   }
  }
 ],
 "nbformat": 4,
 "nbformat_minor": 2,
 "metadata": {
  "orig_nbformat": 2,
  "deepnote": {
   "is_reactive": false
  },
  "deepnote_notebook_id": "8d80b5e1-2135-48f9-b382-3811252ac9cc",
  "deepnote_execution_queue": []
 }
}